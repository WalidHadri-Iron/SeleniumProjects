{
 "cells": [
  {
   "cell_type": "code",
   "execution_count": 1,
   "metadata": {},
   "outputs": [],
   "source": [
    "from selenium import webdriver\n",
    "from selenium.webdriver.support.ui import WebDriverWait\n",
    "from selenium.webdriver.support import expected_conditions as EC\n",
    "from selenium.webdriver.common.by import By\n",
    "from selenium import webdriver\n",
    "from selenium.webdriver.common.keys import Keys\n",
    "import time\n",
    "from selenium.webdriver.common.action_chains import ActionChains\n",
    "import pandas as pd\n",
    "from tqdm import tqdm"
   ]
  },
  {
   "cell_type": "code",
   "execution_count": 3,
   "metadata": {},
   "outputs": [],
   "source": [
    "DRIVER_PATH = r\"C:\\geckodriver.exe\"\n",
    "driver = webdriver.Firefox(executable_path=DRIVER_PATH)"
   ]
  },
  {
   "cell_type": "code",
   "execution_count": 5,
   "metadata": {},
   "outputs": [],
   "source": [
    "driver.get('https://boardgamegeek.com/browse/boardgame')"
   ]
  },
  {
   "cell_type": "code",
   "execution_count": 14,
   "metadata": {},
   "outputs": [],
   "source": [
    "all_links = []\n",
    "for i in range(10):\n",
    "    links = [link.get_attribute('href') for link in driver.find_elements_by_class_name('primary')]\n",
    "    all_links += links\n",
    "    next_page = driver.find_element_by_xpath('/html/body/div[2]/main/div/div/div[1]/div/div/p/a[5]')\n",
    "    next_page.click()"
   ]
  },
  {
   "cell_type": "code",
   "execution_count": 15,
   "metadata": {},
   "outputs": [],
   "source": [
    "pd.DataFrame(data={'links':all_links}).to_excel('out.xlsx')"
   ]
  },
  {
   "cell_type": "code",
   "execution_count": 117,
   "metadata": {},
   "outputs": [],
   "source": [
    "seen = []\n",
    "driver = webdriver.Firefox(executable_path=DRIVER_PATH)\n",
    "#Use this with the Chrome\n",
    "#     driver = webdriver.Chrome(executable_path=DRIVER_PATH)\n",
    "df_plugs = pd.read_excel('ActivePlugs.xlsx')\n",
    "plugs = list(df_plugs[df_plugs.Status==1]['Plug'])\n",
    "driver.get(\"https://www.plugshare.com/\")\n",
    "wait = WebDriverWait(driver, 10).until(EC.presence_of_element_located((By.XPATH, \"/html/body/div[7]/md-dialog/md-dialog-content[2]/button/md-icon\")))\n",
    "driver.find_element_by_xpath(\"/html/body/div[7]/md-dialog/md-dialog-content[2]/button/md-icon\").click()\n",
    "#     time.sleep(0.8)\n",
    "#     wait = WebDriverWait(driver, 10).until(EC.presence_of_element_located((By.XPATH, \"/html/body/div[2]/div/div/div[2]/div[3]/div[12]/button[2]\")))\n",
    "#     driver.find_element_by_xpath(\"/html/body/div[2]/div/div/div[2]/div[3]/div[12]/button[2]\").click()\n",
    "time.sleep(1)\n",
    "location = \"Duluth Supercharger\"\n",
    "wait = WebDriverWait(driver, 10).until(EC.presence_of_element_located((By.ID, \"input-0\")))\n",
    "inputLocation = driver.find_element_by_id(\"input-0\")\n",
    "inputLocation.send_keys(location)\n",
    "inputLocation.send_keys(u'\\ue007')\n",
    "time.sleep(1)\n",
    "#     nbr_charging = int(driver.find_element_by_xpath('/html/body/div[2]/div/div/div[2]/div[3]/div[6]/div[2]/button[1]/span[1]').text)\n",
    "driver.refresh()\n",
    "\n",
    "js_string = \"var element = document.getElementById(\\\"nav\\\");element.remove();\"\n",
    "driver.execute_script(js_string)\n",
    "#     js_string = \"var element = document.getElementById(\\\"search\\\");element.remove();\"\n",
    "#     driver.execute_script(js_string)\n",
    "#     js_string = \"var element = document.getElementById(\\\"quick-filters\\\");element.remove();\"\n",
    "#     driver.execute_script(js_string)\n",
    "#     js_string = \"var element = document.getElementById(\\\"menu\\\");element.remove();\"\n",
    "#     driver.execute_script(js_string)\n",
    "js_string = \"var element = document.getElementById(\\\"markers\\\");element.remove();\"\n",
    "driver.execute_script(js_string)\n",
    "js_string = \"var element = document.getElementById(\\\"traffic\\\");element.remove();\"\n",
    "driver.execute_script(js_string)\n",
    "js_string = \"var element = document.getElementById(\\\"map-types\\\");element.remove();\"\n",
    "driver.execute_script(js_string)\n",
    "js_string = \"var element = document.getElementById(\\\"zoom-in\\\");element.remove();\"\n",
    "driver.execute_script(js_string)\n",
    "js_string = \"var element = document.getElementById(\\\"zoom-out\\\");element.remove();\"\n",
    "driver.execute_script(js_string)\n",
    "js_string = \"var element = document.getElementById(\\\"my-location\\\");element.remove();\"\n",
    "driver.execute_script(js_string)\n",
    "js_string = \"var element = document.getElementById(\\\"menu\\\");element.remove();\"\n",
    "driver.execute_script(js_string)\n",
    "# driver.find_element_by_xpath('//*[@id=\"menu-button\"]').click()\n",
    "time.sleep(4)\n",
    "choices = driver.find_elements_by_xpath(\"//div[contains(@style,'width: 32px; height: 44px')]\")\n",
    "row = {'Station_Name':\"\", 'Address':\"\",'latitude':0,\"longitude\":0, 'Phone_number':\"\", 'Parking':\"\",\"Stations\":0, 'Amenities':[], 'Payment':\"\", 'Open_hours':\"\",'location_description':\"\",\"Power Level\":\"\",'PlugScore':\"\",\"Supercharger\":0,\"CSS/SAE\":0,\"CHAdeMO\":0,\"J-1772\":0,\"Tesla\":0,\n",
    "            \"Tesla (Roadster)\":0,\"Type 2\":0,\"Type 3\":0,\"Three Phase\":0, \"Caravan Mains Socket\":0, \"Wall\":0}\n",
    "\n"
   ]
  },
  {
   "cell_type": "code",
   "execution_count": 118,
   "metadata": {},
   "outputs": [],
   "source": [
    "try:\n",
    "    ActionChains(driver).move_to_element(choices[0]).click().perform()\n",
    "except:\n",
    "    print('Out of index')\n",
    "\n",
    "url_refresh = driver.current_url.split(\"/\")[-1]\n",
    "start = time.time()\n",
    "end = time.time()\n",
    "while url_refresh == \"\" and end-start<10:\n",
    "    url_refresh = driver.current_url.split(\"/\")[-1]\n",
    "    end = time.time()\n",
    "if url_refresh==\"\":\n",
    "    print('Not clickable')\n",
    "    driver.close()\n",
    "station_id = int(driver.current_url.split(\"/\")[-1])\n",
    "if station_id in seen:\n",
    "    print('Station already seen')\n",
    "    driver.close()\n",
    "seen.append(station_id)\n",
    "row['Station_id'] = station_id\n",
    "station_name=\"\"\n",
    "start = time.time()\n",
    "end = time.time()\n",
    "\n",
    "while station_name==\"\" and end-start<10:\n",
    "    station_name = driver.find_element_by_xpath(\"/html/body/div[2]/div/div/div[2]/div[1]/md-content/div/div/div[6]/div[2]/div/h1\").text\n",
    "    end = time.time()\n",
    "if station_name==\"\":\n",
    "    print('Not able to extract station')\n",
    "    driver.close()\n",
    "row['Station_Name'] = station_name \n",
    "a = driver.find_elements_by_class_name(\"information\")[0]"
   ]
  },
  {
   "cell_type": "code",
   "execution_count": 77,
   "metadata": {},
   "outputs": [],
   "source": [
    "a = driver.find_elements_by_class_name(\"information\")[0]"
   ]
  },
  {
   "cell_type": "code",
   "execution_count": 78,
   "metadata": {},
   "outputs": [],
   "source": [
    "row = {'Station_Name':\"\", 'Address':\"\",'latitude':0,\"longitude\":0, 'Phone_number':\"\", 'Parking':\"\",\"Stations\":0, 'Amenities':[], 'Payment':\"\", 'Open_hours':\"\",'location_description':\"\",\"Power Level\":\"\",'PlugScore':\"\",\"Supercharger\":0,\"CSS/SAE\":0,\"CHAdeMO\":0,\"J-1772\":0,\"Tesla\":0,\n",
    "            \"Tesla (Roadster)\":0,\"Type 2\":0,\"Type 3\":0,\"Three Phase\":0, \"Caravan Mains Socket\":0, \"Wall\":0}"
   ]
  },
  {
   "cell_type": "code",
   "execution_count": 152,
   "metadata": {},
   "outputs": [],
   "source": [
    "element = driver.find_element_by_xpath(\"//div[@class='content']//a[contains(@ng-click,'ldvCoords')]\")\n",
    "element.get_attribute('href')"
   ]
  },
  {
   "cell_type": "code",
   "execution_count": 153,
   "metadata": {},
   "outputs": [
    {
     "data": {
      "text/plain": [
       "'https://www.google.com/maps/dir//46.784477,-92.102213'"
      ]
     },
     "execution_count": 153,
     "metadata": {},
     "output_type": "execute_result"
    }
   ],
   "source": []
  },
  {
   "cell_type": "code",
   "execution_count": 130,
   "metadata": {},
   "outputs": [],
   "source": [
    "try:\n",
    "    address = a.find_element_by_css_selector(\"[ng-show='maps.location.address || (maps.location.latitude && maps.location.longitude)']\").find_element_by_class_name(\"content\").text\n",
    "    row['Address'] = address\n",
    "except:\n",
    "    print(\"Address missing\")\n",
    "    pass\n",
    "try:\n",
    "    WebDriverWait(driver, 10).until(EC.presence_of_element_located((By.XPATH, '/html/body/div[2]/div/div/div[2]/div[1]/md-card[1]/div[2]/div[3]/div[2]/a[2]')))\n",
    "    latlon = a.find_element_by_xpath('/html/body/div[2]/div/div/div[2]/div[1]/md-card[1]/div[2]/div[3]/div[2]/a[2]').get_attribute(\"href\")[27:].split(',')\n",
    "    lat = float(latlon[0].split('/')[-1])\n",
    "    lon = float(latlon[1])\n",
    "    row['latitude'] = lat\n",
    "    row['longitude'] = lon\n",
    "except:\n",
    "    print(\"Longitude Latitude Missing\")\n",
    "try:\n",
    "    phone_number = a.find_element_by_css_selector(\"[ng-show='maps.location.phone']\").find_element_by_class_name(\"content\").text\n",
    "    row['Phone_number'] = phone_number\n",
    "except:\n",
    "    print(\"Phone Number missing\")\n",
    "    pass\n",
    "try:\n",
    "    parking = a.find_element_by_css_selector(\"[ng-show='maps.location.parking_type_name || maps.location.parking_attributes.length']\").find_element_by_class_name(\"content\").text.split(\":\")[-1][1:]\n",
    "    row['Parking'] = parking\n",
    "except:\n",
    "    print(\"Parking info missing\")\n",
    "    pass\n",
    "\n",
    "try:\n",
    "    amenities = a.find_element_by_css_selector(\"[ng-show='maps.location.amenities.length > 0']\").find_element_by_class_name(\"content\").text.split(', ')\n",
    "    row['Amenities'] = amenities \n",
    "except:\n",
    "    print(\"Amenities info missing\")\n",
    "    pass\n",
    "try:\n",
    "    payment = a.find_element_by_xpath(\"/html/body/div[2]/div/div/div[2]/div[1]/md-card[1]/div[2]/div[5]/div[2]\").text.split('\\n')\n",
    "    row['Payment'] = payment\n",
    "except:\n",
    "    print(\"Payment Info missing\")\n",
    "    pass\n",
    "try:\n",
    "    open_hours = a.find_element_by_css_selector(\"[ng-show='maps.location.hours || maps.location.open247']\").find_element_by_class_name(\"content\").text\n",
    "    row['Open_hours'] = open_hours\n",
    "except:\n",
    "    print(\"Open Hours Info missing\")\n",
    "    pass\n",
    "try:\n",
    "    location_description = a.find_element_by_css_selector(\"[ng-show='maps.location.description']\").find_element_by_class_name(\"content\").text\n",
    "    row['location_description'] = location_description\n",
    "except:\n",
    "    print(\"Location Description Missing\")\n",
    "    pass\n",
    "try:\n",
    "    plug_score = a.find_element_by_xpath('//*[@id=\"plugscore\"]').text\n",
    "    row['PlugScore'] = plug_score\n",
    "except:\n",
    "    print(\"Location Description Missing\")\n",
    "    pass\n",
    "try:\n",
    "    power_level = driver.find_element_by_css_selector(\"div.plug-power\").text\n",
    "    \n",
    "    row['Power Level'] = power_level\n",
    "except:\n",
    "    print(\"Power Level Missing\")\n",
    "    pass\n",
    "\n",
    "try:\n",
    "    b = driver.find_element_by_id('connectors').find_elements_by_css_selector(\"[ng-repeat='connector in maps.location.connectors']\")\n",
    "    for i in range(len(b)):\n",
    "        plug_name = b[i].find_element_by_css_selector(\"[class='plug-name ng-binding']\").text\n",
    "        station_number = int(b[i].find_element_by_css_selector(\"[class='station-count ng-binding']\").text.split(\" \")[0])\n",
    "        if plug_name in plugs:\n",
    "            row[plug_name] = station_number\n",
    "            row['Stations'] = station_number\n",
    "        else:\n",
    "            row[\"Wall\"] = station_number\n",
    "            row['Stations'] = station_number\n",
    "except:\n",
    "    print(\"Plug information missing\")"
   ]
  },
  {
   "cell_type": "code",
   "execution_count": 132,
   "metadata": {},
   "outputs": [
    {
     "data": {
      "text/plain": [
       "'Tesla (Fast)'"
      ]
     },
     "execution_count": 132,
     "metadata": {},
     "output_type": "execute_result"
    }
   ],
   "source": [
    "plug_name"
   ]
  },
  {
   "cell_type": "code",
   "execution_count": 129,
   "metadata": {},
   "outputs": [
    {
     "name": "stdout",
     "output_type": "stream",
     "text": [
      "Tesla (Fast)\n",
      "4\n"
     ]
    }
   ],
   "source": [
    "b = driver.find_element_by_id('connectors').find_elements_by_css_selector(\"[ng-repeat='connector in maps.location.connectors']\")\n",
    "for i in range(len(b)):\n",
    "    plug_name = b[i].find_element_by_css_selector(\"[class='plug-name ng-binding']\").text\n",
    "    print(plug_name)\n",
    "    station_number = int(b[i].find_element_by_css_selector(\"[class='station-count ng-binding']\").text.split(\" \")[0])\n",
    "    print(station_number)"
   ]
  },
  {
   "cell_type": "code",
   "execution_count": null,
   "metadata": {},
   "outputs": [],
   "source": [
    "\n",
    "\n",
    "\n",
    "\n",
    "out = []\n",
    "seen = []\n",
    "# out where we store all the rows parsed\n",
    "# seen where we store the id of already seen stations, so we don't process them again\n",
    "nbr_stations_to_visit = 200 #How many stations you want\n",
    "nbr_stations_seen = 0\n",
    "start_index = 0 #where to start in the list rendered\n",
    "pbar = tqdm(total = nbr_stations_to_visit+1)\n",
    "i=0\n",
    "while nbr_stations_seen<=nbr_stations_to_visit:\n",
    "    result = get_info_row(\"Australia\", start_index + i, DRIVER_PATH)\n",
    "    if (result != -1) and result:\n",
    "        nbr_stations_seen+=1\n",
    "        out.append(result)\n",
    "        data = pd.DataFrame(out)\n",
    "        data.to_csv(\"out.csv\", index=False,sep=\",\")\n",
    "        pbar.update(1)\n",
    "\n",
    "    i+=1"
   ]
  }
 ],
 "metadata": {
  "interpreter": {
   "hash": "2ece115de42fa44b27cb2f9d5fa3ab6940f9c227ea6e14309ffdd528688a7824"
  },
  "kernelspec": {
   "display_name": "Python 3 (ipykernel)",
   "language": "python",
   "name": "python3"
  },
  "language_info": {
   "codemirror_mode": {
    "name": "ipython",
    "version": 3
   },
   "file_extension": ".py",
   "mimetype": "text/x-python",
   "name": "python",
   "nbconvert_exporter": "python",
   "pygments_lexer": "ipython3",
   "version": "3.9.7"
  }
 },
 "nbformat": 4,
 "nbformat_minor": 4
}
